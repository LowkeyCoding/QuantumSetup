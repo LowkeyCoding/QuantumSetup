{
 "cells": [
  {
   "cell_type": "code",
   "execution_count": null,
   "id": "950bf8b0",
   "metadata": {},
   "outputs": [],
   "source": [
    "from azure.quantum import Workspace\n",
    "from azure.quantum.qiskit import AzureQuantumProvider\n",
    "from matplotlib import pyplot\n",
    "from dotenv import load_dotenv\n",
    "from qiskit import QuantumCircuit, transpile, QuantumRegister, ClassicalRegister\n",
    "from qiskit.visualization import plot_histogram\n",
    "import numpy as np\n",
    "import os"
   ]
  },
  {
   "cell_type": "markdown",
   "id": "06611838",
   "metadata": {},
   "source": [
    "Section - Setup Circuit Parameters"
   ]
  },
  {
   "cell_type": "code",
   "execution_count": null,
   "id": "2fdc3a10",
   "metadata": {},
   "outputs": [],
   "source": [
    "load_dotenv()\n",
    "workspace = Workspace.from_connection_string(os.environ['azure_connection'])\n",
    "provider = AzureQuantumProvider(workspace)\n",
    "# Selecting a backend\n",
    "# Use simulators to test before running it on real hardware.\n",
    "backend = provider.get_backend(\"rigetti.sim.qvm\")\n",
    "\n",
    "qubits = 6 # The number of physical qubits\n",
    "a = 42 # the hidden integer\n",
    "\n",
    "# Ensure it can be represented with the number of specified qubits\n",
    "a = a % 2**(qubits)"
   ]
  },
  {
   "cell_type": "markdown",
   "id": "c142751a",
   "metadata": {},
   "source": [
    "Section - Quantum Register and Classical Register Initialization"
   ]
  },
  {
   "cell_type": "code",
   "execution_count": null,
   "id": "61a43a69",
   "metadata": {},
   "outputs": [],
   "source": [
    "qr = QuantumRegister(qubits)\n",
    "cr = ClassicalRegister(qubits)\n",
    "\n",
    "circ = QuantumCircuit(qr, cr)"
   ]
  },
  {
   "cell_type": "markdown",
   "id": "c17898dd",
   "metadata": {},
   "source": [
    "Section - Superposition State Preparation (Equal weights to all basis states)"
   ]
  },
  {
   "cell_type": "code",
   "execution_count": null,
   "id": "f8e0f62b",
   "metadata": {},
   "outputs": [],
   "source": [
    "for i in range(qubits):\n",
    "    circ.h(qr[i])  # Apply Hadamard gates to put qubits in supe\n",
    "\n",
    "circ.barrier()"
   ]
  },
  {
   "cell_type": "markdown",
   "id": "c884630f",
   "metadata": {},
   "source": [
    "Section - Oracle Function"
   ]
  },
  {
   "cell_type": "code",
   "execution_count": null,
   "id": "bbd9dd06",
   "metadata": {},
   "outputs": [],
   "source": [
    "for i in range(qubits):\n",
    "    # Apply Z gate if the i-th bit of 'a' is 1\n",
    "    if (a & (1 << i)):\n",
    "        circ.z(qr[i]) \n",
    "    # Apply identity gate if the i-th bit of 'a' is 0\n",
    "    else:\n",
    "        circ.id(qr[i])\n",
    "        circ.barrier()\n",
    "\n",
    "for i in range(qubits):\n",
    "    circ.h(qr[i])"
   ]
  },
  {
   "cell_type": "markdown",
   "id": "59766ffa",
   "metadata": {},
   "source": [
    "Section - Running the circuit"
   ]
  },
  {
   "cell_type": "code",
   "execution_count": null,
   "id": "1b4544b8",
   "metadata": {},
   "outputs": [],
   "source": [
    "circ.barrier()\n",
    "circ.measure(qr,cr)\n",
    "circ.draw(\"mpl\")\n",
    "\n",
    "\n",
    "qc_compiled = transpile(circ, backend)\n",
    "job_sim = backend.run(qc_compiled, shots=1024)\n",
    "result_sim = job_sim.result()\n",
    "counts = result_sim.get_counts(qc_compiled)"
   ]
  },
  {
   "cell_type": "markdown",
   "id": "ddfcf1e2",
   "metadata": {},
   "source": [
    "Section - Plotting the results"
   ]
  },
  {
   "cell_type": "code",
   "execution_count": null,
   "id": "5354dac6",
   "metadata": {},
   "outputs": [],
   "source": [
    "plot_histogram(counts)"
   ]
  }
 ],
 "metadata": {
  "language": "python"
 },
 "nbformat": 4,
 "nbformat_minor": 5
}
