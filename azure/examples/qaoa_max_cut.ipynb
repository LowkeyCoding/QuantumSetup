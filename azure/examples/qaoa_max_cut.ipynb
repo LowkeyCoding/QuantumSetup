{
 "cells": [
  {
   "cell_type": "code",
   "execution_count": null,
   "id": "bb857b46",
   "metadata": {},
   "outputs": [],
   "source": [
    "# This code was update/modified from https://github.com/Qiskit/textbook/blob/main/notebooks/ch-applications/qaoa.ipynb\n",
    "from azure.quantum import Workspace\n",
    "from azure.quantum.qiskit import AzureQuantumProvider\n",
    "from matplotlib import pyplot\n",
    "from dotenv import load_dotenv\n",
    "from qiskit import QuantumCircuit, transpile, QuantumRegister, ClassicalRegister\n",
    "from qiskit.visualization import plot_histogram\n",
    "import numpy as np\n",
    "import os\n",
    "\n",
    "# Circuit Specific Imports\n",
    "from qiskit.circuit import Parameter\n",
    "from scipy.optimize import minimize"
   ]
  },
  {
   "cell_type": "markdown",
   "id": "1b7ac561",
   "metadata": {},
   "source": [
    "Section - Backend Setup and Graph Definition"
   ]
  },
  {
   "cell_type": "code",
   "execution_count": null,
   "id": "c337a527",
   "metadata": {},
   "outputs": [],
   "source": [
    "load_dotenv()\n",
    "workspace = Workspace.from_connection_string(os.environ['azure_connection'])\n",
    "provider = AzureQuantumProvider(workspace)\n",
    "# Selecting a backend\n",
    "# Use simulators to test before running it on real hardware.\n",
    "backend = provider.get_backend(\"rigetti.sim.qvm\")\n",
    "\n",
    "# Define a graph representing a square. Each node is identified by an integer.\n",
    "graph = {\n",
    "    \"nodes\": [0,1,2,3],\n",
    "    \"edges\": [(0, 1), (1, 2), (2, 3), (3, 0)]\n",
    "}\n",
    "\n",
    "NODES = \"nodes\"\n",
    "EDGES = \"edges\""
   ]
  },
  {
   "cell_type": "markdown",
   "id": "f3d4e1ab",
   "metadata": {},
   "source": [
    "Section - Maxcut Cost"
   ]
  },
  {
   "cell_type": "code",
   "execution_count": null,
   "id": "59445f56",
   "metadata": {},
   "outputs": [],
   "source": [
    "def maxcut_cost(solution, graph):\n",
    "    \"\"\"Calculates the cost (negative of the number of edges cut) for a given solution.\n",
    "\n",
    "    Args:\n",
    "        solution (string): A binary string representing the set assignment of each vertex.\n",
    "        graph (dict): A dictionary representing the graph, with keys \"nodes\" and \"edges.\"\n",
    "\n",
    "    Returns:\n",
    "        int: The cost (negative of the number of edges cut) for the given solution.\n",
    "    \"\"\"\n",
    "    cost = 0\n",
    "    for i, j in graph[EDGES]:\n",
    "        if solution[i] != solution[j]:\n",
    "            cost -= 1\n",
    "    return cost"
   ]
  },
  {
   "cell_type": "markdown",
   "id": "7cf66c91",
   "metadata": {},
   "source": [
    "Section - Expected Value"
   ]
  },
  {
   "cell_type": "code",
   "execution_count": null,
   "id": "f4a5da64",
   "metadata": {},
   "outputs": [],
   "source": [
    "def compute_expectation(counts, graph):\n",
    "    \"\"\"Calculates the expected value of the cost function given measurement results.\n",
    "\n",
    "    Args:\n",
    "        counts (dict): A dictionary mapping bitstrings to their counts from quantum circuit execution.\n",
    "        graph (dict): A dictionary representing the graph, with keys \"nodes\" and \"edges.\"\n",
    "\n",
    "    Returns:\n",
    "        float: The expected value of the cost function.\n",
    "    \"\"\"\n",
    "    avg = 0\n",
    "    sum_count = 0\n",
    "    for bit_string, count in counts.items():\n",
    "        obj = maxcut_cost(bit_string, graph)\n",
    "        avg += obj * count\n",
    "        sum_count += count\n",
    "    return avg/sum_count"
   ]
  },
  {
   "cell_type": "markdown",
   "id": "3102d94d",
   "metadata": {},
   "source": [
    "Section - Circuit Creation"
   ]
  },
  {
   "cell_type": "code",
   "execution_count": null,
   "id": "cffa0f79",
   "metadata": {},
   "outputs": [],
   "source": [
    "def create_qaoa_circ(graph, theta):\n",
    "    \"\"\"Constructs a parameterized QAOA circuit for the Max-Cut problem.\n",
    "\n",
    "    Args:\n",
    "        graph (dict): A dictionary representing the graph, with keys \"nodes\" and \"edges.\"\n",
    "        theta (list): A list of unitary parameters\n",
    "\n",
    "    Returns:\n",
    "        QuantumCircuit: The constructed QAOA circuit.\n",
    "    \"\"\"\n",
    "    nqubits = len(graph[NODES]) # Number of Qubits\n",
    "    n_layers = len(theta)//2    # Number of alternating unitaries\n",
    "    beta = theta[:n_layers]\n",
    "    gamma = theta[n_layers:]\n",
    "    qc = QuantumCircuit(nqubits)\n",
    "\n",
    "    # Initial_state\n",
    "    qc.h(range(nqubits))\n",
    "\n",
    "    for layer_index in range(n_layers):\n",
    "        # Problem unitary\n",
    "        for pair in list(graph[EDGES]):\n",
    "            qc.rzz(2 * gamma[layer_index], pair[0], pair[1])\n",
    "        # Mixer unitary\n",
    "        for qubit in range(nqubits):\n",
    "            qc.rx(2 * beta[layer_index], qubit)\n",
    "    qc.measure_all()\n",
    "    return qc"
   ]
  },
  {
   "cell_type": "markdown",
   "id": "06587b31",
   "metadata": {},
   "source": [
    "Section - Calculate Expected Value"
   ]
  },
  {
   "cell_type": "code",
   "execution_count": null,
   "id": "e7ab36dd",
   "metadata": {},
   "outputs": [],
   "source": [
    "def get_expectation(graph, backend, shots=512):\n",
    "    \"\"\"Calculates the expected value of the cost function given measurement results.\n",
    "\n",
    "    Args:\n",
    "        counts (dict): A dictionary mapping bitstrings to their counts from quantum circuit execution.\n",
    "        graph (dict): A dictionary representing the graph, with keys \"nodes\" and \"edges.\"\n",
    "\n",
    "    Returns:\n",
    "        float: The expected value of the cost function.\n",
    "    \"\"\"\n",
    "    def execute_circ(theta):\n",
    "        \"\"\"Executes the QAOA circuit with given parameters and returns the expectation value.\"\"\"\n",
    "        qc = create_qaoa_circ(graph, theta)\n",
    "        qc_compiled = transpile(qc, backend)\n",
    "        job_sim = backend.run(qc_compiled, shots=shots)\n",
    "        counts = job_sim.result().get_counts(qc_compiled)\n",
    "        return compute_expectation(counts, graph)\n",
    "    return execute_circ"
   ]
  },
  {
   "cell_type": "markdown",
   "id": "27260f1f",
   "metadata": {},
   "source": [
    "Section - Optimizing Circuit"
   ]
  },
  {
   "cell_type": "code",
   "execution_count": null,
   "id": "c1944de8",
   "metadata": {},
   "outputs": [],
   "source": [
    "# Get the function to calculate expectation for optimization\n",
    "expectation = get_expectation(graph, backend)\n",
    "\n",
    "res = minimize(expectation,\n",
    "               [1.0, 1.0],      # Initial guess for parameters\n",
    "               method='COBYLA') # Classical optimization method\n",
    "# Print the result of the minimization function\n",
    "print(res)"
   ]
  },
  {
   "cell_type": "markdown",
   "id": "060d5bb3",
   "metadata": {},
   "source": [
    "Section - Optimized Circuit"
   ]
  },
  {
   "cell_type": "code",
   "execution_count": null,
   "id": "1b6dd4f2",
   "metadata": {},
   "outputs": [],
   "source": [
    "# Create the final circuit with optimized parameters\n",
    "qc_res = create_qaoa_circ(graph, res.x)\n",
    "\n",
    "# Draw the final circuit\n",
    "qc_res.draw(\"mpl\")"
   ]
  },
  {
   "cell_type": "markdown",
   "id": "1b82074e",
   "metadata": {},
   "source": [
    "Section - Circuit Execution and Result Analysis"
   ]
  },
  {
   "cell_type": "code",
   "execution_count": null,
   "id": "1884943a",
   "metadata": {},
   "outputs": [],
   "source": [
    "# Execute the circuit and visualize results\n",
    "qc_compiled = transpile(qc_res, backend)\n",
    "job_sim = backend.run(qc_compiled, shots=512)\n",
    "counts = job_sim.result().get_counts(qc_compiled)\n",
    "\n",
    "# Expected spikes at the solutions [\"1010\", \"0101\"]\n",
    "plot_histogram(counts)"
   ]
  }
 ],
 "metadata": {
  "language": "python"
 },
 "nbformat": 4,
 "nbformat_minor": 5
}
