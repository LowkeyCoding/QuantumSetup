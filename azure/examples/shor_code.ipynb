{
 "cells": [
  {
   "cell_type": "code",
   "execution_count": null,
   "id": "6ce3c4e6",
   "metadata": {},
   "outputs": [],
   "source": [
    "from azure.quantum import Workspace\n",
    "from azure.quantum.qiskit import AzureQuantumProvider\n",
    "from matplotlib import pyplot\n",
    "from dotenv import load_dotenv\n",
    "from qiskit import QuantumCircuit, transpile, QuantumRegister, ClassicalRegister\n",
    "from qiskit.visualization import plot_histogram\n",
    "import numpy as np\n",
    "import os"
   ]
  },
  {
   "cell_type": "markdown",
   "id": "1bd4c24b",
   "metadata": {},
   "source": [
    "Section - Qubit Register and Classical Register Initialization"
   ]
  },
  {
   "cell_type": "code",
   "execution_count": null,
   "id": "c832295c",
   "metadata": {},
   "outputs": [],
   "source": [
    "load_dotenv()\n",
    "workspace = Workspace.from_connection_string(os.environ['azure_connection'])\n",
    "provider = AzureQuantumProvider(workspace)\n",
    "# Selecting a backend\n",
    "# Use simulators to test before running it on real hardware.\n",
    "backend = provider.get_backend(\"rigetti.sim.qvm\")\n",
    "\n",
    "qr = QuantumRegister(9, name='qr')\n",
    "cr = ClassicalRegister(1, name='cr')\n",
    "\n",
    "shor = QuantumCircuit(qr,cr)"
   ]
  },
  {
   "cell_type": "markdown",
   "id": "cf155b57",
   "metadata": {},
   "source": [
    "Section - Superposition State Preparation (|1> on first qubit, others in superposition)"
   ]
  },
  {
   "cell_type": "code",
   "execution_count": null,
   "id": "68f82018",
   "metadata": {},
   "outputs": [],
   "source": [
    "# shor.x(qr[0]) # Uncomment to set the first qubit to |1> (optional)\n",
    "\n",
    "shor.cx(qr[0],qr[3])\n",
    "shor.cx(qr[0],qr[6])\n",
    "\n",
    "shor.h(qr[0])\n",
    "shor.h(qr[3])\n",
    "shor.h(qr[6])\n",
    "\n",
    "shor.cx(qr[0],qr[1])\n",
    "shor.cx(qr[3],qr[4])\n",
    "shor.cx(qr[6],qr[7])\n",
    "\n",
    "shor.cx(qr[0],qr[2])\n",
    "shor.cx(qr[3],qr[5])\n",
    "shor.cx(qr[6],qr[8])\n",
    "\n",
    "shor.barrier(qr)\n",
    "\n",
    "# Error Part of Circuit Start\n",
    "\n",
    "shor.x(qr[0]) # Bit flip\n",
    "shor.z(qr[0]) # Bit phase flip\n",
    "\n",
    "# Error Part of Circuit End\n",
    "\n",
    "shor.barrier(qr)\n",
    "shor.cx(qr[0],qr[1])\n",
    "shor.cx(qr[3],qr[4])\n",
    "shor.cx(qr[6],qr[7])\n",
    "\n",
    "shor.cx(qr[0],qr[2])\n",
    "shor.cx(qr[3],qr[5])\n",
    "shor.cx(qr[6],qr[8])\n",
    "\n",
    "shor.ccx(qr[1],qr[2],qr[0])\n",
    "shor.ccx(qr[4],qr[5],qr[3])\n",
    "shor.ccx(qr[8],qr[7],qr[6])\n",
    "\n",
    "shor.h(qr[0])\n",
    "shor.h(qr[3])\n",
    "shor.h(qr[6])\n",
    "\n",
    "shor.cx(qr[0],qr[3])\n",
    "shor.cx(qr[0],qr[6])\n",
    "shor.ccx(qr[6],qr[3],qr[0])\n",
    "\n",
    "shor.barrier(qr)\n",
    "\n",
    "shor.measure(qr[0],cr[0])"
   ]
  },
  {
   "cell_type": "markdown",
   "id": "eee276b4",
   "metadata": {},
   "source": [
    "Section - Circuit Visualization"
   ]
  },
  {
   "cell_type": "code",
   "execution_count": null,
   "id": "97b85dc5",
   "metadata": {},
   "outputs": [],
   "source": [
    "shor.draw(\"mpl\")"
   ]
  },
  {
   "cell_type": "markdown",
   "id": "f3f8a5a9",
   "metadata": {},
   "source": [
    "Section - Circuit Execution and Result Analysis"
   ]
  },
  {
   "cell_type": "code",
   "execution_count": null,
   "id": "1c07e41e",
   "metadata": {},
   "outputs": [],
   "source": [
    "# Run shor code circuit\n",
    "qc_compiled = transpile(shor, backend)\n",
    "job_sim = backend.run(qc_compiled, shots=1024)\n",
    "result_sim = job_sim.result()\n",
    "counts = result_sim.get_counts(qc_compiled)\n",
    "\n",
    "# Plot the result\n",
    "plot_histogram(counts)"
   ]
  }
 ],
 "metadata": {
  "language": "python"
 },
 "nbformat": 4,
 "nbformat_minor": 5
}
