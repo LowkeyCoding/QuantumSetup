{
 "cells": [
  {
   "cell_type": "code",
   "execution_count": null,
   "id": "c3df32a6",
   "metadata": {},
   "outputs": [],
   "source": [
    "from qiskit_aer import AerSimulator\n",
    "from qiskit import QuantumCircuit, transpile, QuantumRegister, ClassicalRegister\n",
    "from qiskit.visualization import plot_histogram\n",
    "from qiskit_ibm_runtime import QiskitRuntimeService, SamplerV2 as Sampler\n",
    "from matplotlib import pyplot\n",
    "from dotenv import load_dotenv\n",
    "from random import randbytes\n",
    "import numpy as np\n",
    "import os"
   ]
  },
  {
   "cell_type": "markdown",
   "id": "b7d11c39",
   "metadata": {},
   "source": [
    "Section - Setup"
   ]
  },
  {
   "cell_type": "code",
   "execution_count": null,
   "id": "69865b13",
   "metadata": {},
   "outputs": [],
   "source": [
    "load_dotenv()\n",
    "\n",
    "provider = QiskitRuntimeService(token=os.environ[\"ibm_token\"], channel=\"ibm_cloud\", instance=os.environ[\"ibm_crn\"])\n",
    "\n",
    "# Selecting a backend\n",
    "real_backend = provider.least_busy(operational=True, simulator=False)\n",
    "backend = AerSimulator.from_backend(real_backend)\n",
    "sampler = Sampler(backend)\n",
    "\n",
    "key_len = 8  # for a local backend n can go as up as 23, after that it raises a Memory Error\n",
    "\n",
    "qr = QuantumRegister(key_len, name='qr')\n",
    "cr = ClassicalRegister(key_len, name='cr')\n",
    "\n",
    "alice = QuantumCircuit(qr, cr, name=\"a\") # Alice circuit\n",
    "bob = QuantumCircuit(qr, cr, name=\"b\") # Bob circuit"
   ]
  },
  {
   "cell_type": "markdown",
   "id": "6c49c8dc",
   "metadata": {},
   "source": [
    "Section - Key generation"
   ]
  },
  {
   "cell_type": "code",
   "execution_count": null,
   "id": "1c65a097",
   "metadata": {},
   "outputs": [],
   "source": [
    "# Create alice secret key\n",
    "alice_key = [1 if np.random.random() > 0.5 else 0 for i in range(key_len)]\n",
    "\n",
    "# Encode key as alice qubits \n",
    "# IBM's qubits are all set to |0> initially\n",
    "for index, digit in enumerate(alice_key):\n",
    "    if digit == 1:\n",
    "        alice.x(qr[index]) # if key has a '1', change state to |1>"
   ]
  },
  {
   "cell_type": "markdown",
   "id": "643228d7",
   "metadata": {},
   "source": [
    "Section - Basis Generation"
   ]
  },
  {
   "cell_type": "code",
   "execution_count": null,
   "id": "ceb3884d",
   "metadata": {},
   "outputs": [],
   "source": [
    "def create_basis(qc, qr):\n",
    "    basis = []\n",
    "    for index in range(key_len):\n",
    "        if 0.5 < np.random.random():   # 50% chance\n",
    "            qc.h(qr[index])    # change to diagonal basis\n",
    "            basis.append(1)    # character for diagonal basis\n",
    "        else:\n",
    "            basis.append(0)\n",
    "    return basis\n",
    "\n",
    "# Create basis for Alice and Bob\n",
    "alice_basis = create_basis(alice, qr)\n",
    "bob_basis = create_basis(bob, qr)\n",
    "\n",
    "alice_bob = alice.copy()\n",
    "alice_bob.compose(bob, inplace=True)\n",
    "for index in range(key_len): \n",
    "    alice_bob.measure(qr[index], cr[index])\n",
    "\n",
    "alice_bob.draw(\"mpl\")"
   ]
  },
  {
   "cell_type": "markdown",
   "id": "54051af0",
   "metadata": {},
   "source": [
    "Section - Key sharing"
   ]
  },
  {
   "cell_type": "code",
   "execution_count": null,
   "id": "a5e7264f",
   "metadata": {},
   "outputs": [],
   "source": [
    "def run_circuit(circ):\n",
    "    # Transpile circuit to work with the current backend.\n",
    "    qc_compiled = transpile(circ, backend)\n",
    "    # Run the job\n",
    "    job_sim = sampler.run([qc_compiled], shots=1)\n",
    "    # Get the result\n",
    "    result_sim = job_sim.result()\n",
    "    return result_sim[0].data.cr.get_counts()\n",
    "\n",
    "\n",
    "def get_shared_key(key_a, key_b, basis_a, basis_b):\n",
    "    acc = 0\n",
    "    key_b = key_b[::-1]\n",
    "    shared_idx = [] # Get the indexes of shared basis\n",
    "    for idx, basis in enumerate(zip(basis_a, basis_b)):\n",
    "        if basis[0] == basis[1]:\n",
    "            shared_idx.append(idx)\n",
    "        \n",
    "    shared_key_a = [key_a[idx] for idx in shared_idx]\n",
    "    shared_key_b = [int(key_b[idx]) for idx in shared_idx]\n",
    "    for bit in zip(shared_key_a, shared_key_b):\n",
    "        if bit[0] == bit[1]:\n",
    "            acc += 1\n",
    "    return (shared_key_a, shared_key_b, acc)\n",
    "\n",
    "counts = run_circuit(alice_bob)\n",
    "\n",
    "(shared_key_a, shared_key_b, acc) = get_shared_key(alice_key, next(iter(counts.keys())), alice_basis, bob_basis)"
   ]
  },
  {
   "cell_type": "markdown",
   "id": "ac5eb6d4",
   "metadata": {},
   "source": [
    "Section - Results"
   ]
  },
  {
   "cell_type": "code",
   "execution_count": null,
   "id": "305b08e9",
   "metadata": {},
   "outputs": [],
   "source": [
    "print(f\"\")\n",
    "print(f\"\")\n",
    "print(f\"Pure Execution without Eve\")\n",
    "print(f\"Alice shared key = {shared_key_a}\")\n",
    "print(f\"Bob shared key   = {shared_key_b}\")\n",
    "print(f\"Key sharing {\"succeeded\" if acc == len(shared_key_a) else  \"failed\"}\")"
   ]
  },
  {
   "cell_type": "markdown",
   "id": "0be0e8b6",
   "metadata": {},
   "source": [
    "Section - Eve Intercepting Alice"
   ]
  },
  {
   "cell_type": "code",
   "execution_count": null,
   "id": "e54ec591",
   "metadata": {},
   "outputs": [],
   "source": [
    "# Let introduce Eve to the circuit\n",
    "eve = QuantumCircuit(qr, cr, name=\"c\")\n",
    "eve_basis = create_basis(eve, qr)\n",
    "\n",
    "# First Alice send bit's to Eve\n",
    "alice_eve = alice.copy()\n",
    "alice_eve.compose(eve, inplace=True)\n",
    "for index in range(key_len): \n",
    "    alice_eve.measure(qr[index], cr[index])\n",
    "\n",
    "alice_eve.draw(\"mpl\")\n",
    "counts = run_circuit(alice_eve)"
   ]
  },
  {
   "cell_type": "markdown",
   "id": "8b03408a",
   "metadata": {},
   "source": [
    "Section Eve Impersonating Alice"
   ]
  },
  {
   "cell_type": "code",
   "execution_count": null,
   "id": "52b93423",
   "metadata": {},
   "outputs": [],
   "source": [
    "# Second Eve send bits to Bob.\n",
    "# To achieve this we first recover Eve's state after measuring\n",
    "eve_key = next(iter(counts.keys()))\n",
    "eve_key_circ = QuantumCircuit(qr, cr, name=\"c\")\n",
    "for index, digit in enumerate(eve_key[::-1]):\n",
    "    if digit == '1':\n",
    "        eve_key_circ.x(qr[index])\n",
    "\n",
    "eve_bob = eve_key_circ.copy()\n",
    "eve_bob.compose(eve, inplace=True) # Append eve's basis \n",
    "eve_bob.compose(bob, inplace=True) # Append bob's basis\n",
    "for index in range(key_len): \n",
    "    eve_bob.measure(qr[index], cr[index])\n",
    "\n",
    "eve_bob.draw(\"mpl\")"
   ]
  },
  {
   "cell_type": "markdown",
   "id": "b5a9f4c1",
   "metadata": {},
   "source": [
    "Section - Results with Eve"
   ]
  },
  {
   "cell_type": "code",
   "execution_count": null,
   "id": "a3d75117",
   "metadata": {},
   "outputs": [],
   "source": [
    "counts = run_circuit(eve_bob)\n",
    "(shared_key_a, shared_key_b, acc) =  get_shared_key(alice_key, next(iter(counts.keys())), alice_basis, bob_basis)\n",
    "\n",
    "\n",
    "print(f\"Execution with Eve\")\n",
    "print(f\"Alice's Basis = {alice_basis}\")\n",
    "print(f\"Eve's Basis   = {eve_basis}\")\n",
    "print(f\"Bob's Basis   = {bob_basis}\")\n",
    "print(f\"Alice shared key = {shared_key_a}\")\n",
    "print(f\"Bob shared key   = {shared_key_b}\")\n",
    "print(f\"Key sharing {\"succeeded Eve was not detected\" if acc == len(shared_key_a) else  \"failed Eve was detected\"}\")"
   ]
  }
 ],
 "metadata": {
  "language": "python",
  "language_info": {
   "name": "python"
  }
 },
 "nbformat": 4,
 "nbformat_minor": 5
}
