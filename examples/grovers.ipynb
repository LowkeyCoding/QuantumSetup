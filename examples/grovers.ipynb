{
 "cells": [
  {
   "cell_type": "code",
   "execution_count": null,
   "id": "2f2b0c0e",
   "metadata": {},
   "outputs": [],
   "source": [
    "from azure.quantum import Workspace\n",
    "from azure.quantum.qiskit import AzureQuantumProvider\n",
    "from matplotlib import pyplot\n",
    "from dotenv import load_dotenv\n",
    "from qiskit import QuantumCircuit, transpile, QuantumRegister, ClassicalRegister\n",
    "from qiskit.visualization import plot_histogram\n",
    "import numpy as np\n",
    "import os"
   ]
  },
  {
   "cell_type": "markdown",
   "id": "0b242d07",
   "metadata": {},
   "source": [
    "Section - Backend and Qubit Register Initialization"
   ]
  },
  {
   "cell_type": "code",
   "execution_count": null,
   "id": "e6dff867",
   "metadata": {},
   "outputs": [],
   "source": [
    "load_dotenv()\n",
    "workspace = Workspace.from_connection_string(os.environ['azure_connection'])\n",
    "provider = AzureQuantumProvider(workspace)\n",
    "# Selecting a backend\n",
    "# Use simulators to test before running it on real hardware.\n",
    "backend = provider.get_backend(\"rigetti.sim.qvm\")\n",
    "num_bits = 3 # number of random bits to generate\n",
    "\n",
    "qr = QuantumRegister(num_bits, name='qr')\n",
    "cr = ClassicalRegister(num_bits, name='cr')\n",
    "grover = QuantumCircuit(qr,cr)"
   ]
  },
  {
   "cell_type": "markdown",
   "id": "580c6d80",
   "metadata": {},
   "source": [
    "Section - Superposition State Preparation"
   ]
  },
  {
   "cell_type": "code",
   "execution_count": null,
   "id": "a83ad6b3",
   "metadata": {},
   "outputs": [],
   "source": [
    "for i in range(num_bits):\n",
    "    grover.h(qr[i])"
   ]
  },
  {
   "cell_type": "markdown",
   "id": "eafde6a9",
   "metadata": {},
   "source": [
    "Section - Oracle Definition"
   ]
  },
  {
   "cell_type": "code",
   "execution_count": null,
   "id": "76c7cd96",
   "metadata": {},
   "outputs": [],
   "source": [
    "oracle = QuantumCircuit(qr, name=\"Oracle\")\n",
    "oracle.cz(0,2) # | 101>\n",
    "oracle.cz(1,2) # | 011>\n",
    "oracle.to_gate()\n",
    "\n",
    "def create_diffuser(num_bits):\n",
    "    \"\"\"\n",
    "    Creates the diffuser circuit for Grover's algorithm.\n",
    "\n",
    "    Args:\n",
    "        num_qubits: The number of qubits in the circuit.\n",
    "\n",
    "    Returns:\n",
    "        The diffuser circuit as a QuantumCircuit object.\n",
    "    \"\"\"\n",
    "    diffuser_qr = QuantumRegister(num_bits, name=\"diffuser_qubits\")\n",
    "    diffuser_qc = QuantumCircuit(diffuser_qr, name=\"Diffuser\")\n",
    "\n",
    "    # Apply Hadamard gates to all qubits\n",
    "    diffuser_qc.h(diffuser_qr)\n",
    "\n",
    "    # Apply X gates to all qubits\n",
    "    diffuser_qc.x(diffuser_qr)\n",
    "\n",
    "    # Apply multi-controlled Z gate (with all qubits as controls)\n",
    "    diffuser_qc.h(num_bits - 1)\n",
    "    diffuser_qc.mcx(list(range(num_bits - 1)), num_bits - 1)  # Target is the last qubit\n",
    "    diffuser_qc.h(num_bits - 1)\n",
    "\n",
    "    # Apply X gates to all qubits\n",
    "    diffuser_qc.x(diffuser_qr)\n",
    "\n",
    "    # Apply Hadamard gates to all qubits\n",
    "    diffuser_qc.h(diffuser_qr)\n",
    "\n",
    "    return diffuser_qc"
   ]
  },
  {
   "cell_type": "markdown",
   "id": "b5ecfc5a",
   "metadata": {},
   "source": [
    "Section - Grover Iteration (Oracle + Diffuser)"
   ]
  },
  {
   "cell_type": "code",
   "execution_count": null,
   "id": "d2d21ba5",
   "metadata": {},
   "outputs": [],
   "source": [
    "diffuser = create_diffuser(num_bits)\n",
    "\n",
    "grover.append(oracle, qr)\n",
    "grover.append(diffuser, qr)"
   ]
  },
  {
   "cell_type": "markdown",
   "id": "885d1152",
   "metadata": {},
   "source": [
    "Section - Measurement"
   ]
  },
  {
   "cell_type": "code",
   "execution_count": null,
   "id": "c9ef2f15",
   "metadata": {},
   "outputs": [],
   "source": [
    "grover.measure(qr,cr)\n",
    "grover.draw(\"mpl\")"
   ]
  },
  {
   "cell_type": "markdown",
   "id": "37137ce1",
   "metadata": {},
   "source": [
    "Section - Circuit Execution and Result Analysis"
   ]
  },
  {
   "cell_type": "code",
   "execution_count": null,
   "id": "b0233743",
   "metadata": {},
   "outputs": [],
   "source": [
    "qc_compiled = transpile(grover, backend)\n",
    "job_sim = backend.run(qc_compiled, shots=1024)\n",
    "result_sim = job_sim.result()\n",
    "counts = result_sim.get_counts(qc_compiled)\n",
    "\n",
    "# Plot the result\n",
    "plot_histogram(counts)"
   ]
  }
 ],
 "metadata": {
  "language": "python"
 },
 "nbformat": 4,
 "nbformat_minor": 5
}
