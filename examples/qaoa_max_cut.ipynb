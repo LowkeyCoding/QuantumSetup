{
 "cells": [
  {
   "cell_type": "code",
   "execution_count": 1,
   "id": "1bc190e1",
   "metadata": {},
   "outputs": [],
   "source": [
    "# This code was update/modified from https://github.com/Qiskit/textbook/blob/main/notebooks/ch-applications/qaoa.ipynb\n",
    "from braket.aws.aws_session import AwsSession \n",
    "import boto3\n",
    "import os \n",
    "from dotenv import load_dotenv\n",
    "from qiskit import *\n",
    "from qiskit_braket_provider import BraketProvider\n",
    "from qiskit.visualization import plot_histogram\n",
    "from matplotlib import pyplot\n",
    "\n",
    "# Circuit Specific Imports\n",
    "from qiskit.circuit import Parameter\n",
    "from scipy.optimize import minimize"
   ]
  },
  {
   "cell_type": "markdown",
   "id": "11ba2a48",
   "metadata": {},
   "source": [
    "Section - Backend Setup and Graph Definition"
   ]
  },
  {
   "cell_type": "code",
   "execution_count": 2,
   "id": "0dc2f95a",
   "metadata": {},
   "outputs": [],
   "source": [
    "# Load environment variables \n",
    "load_dotenv()\n",
    "\n",
    "boto_session = boto3.Session(\n",
    "    aws_access_key_id=os.environ['aws_access'],\n",
    "    aws_secret_access_key=os.environ['aws_secret'],\n",
    "    region_name=os.environ['aws_region'],\n",
    ")\n",
    "session = AwsSession(boto_session)\n",
    "provider = BraketProvider()\n",
    "backend = provider.get_backend(\"SV1\", aws_session = session)\n",
    "\n",
    "# Define a graph representing a square. Each node is identified by an integer.\n",
    "graph = {\n",
    "    \"nodes\": [0,1,2,3],\n",
    "    \"edges\": [(0, 1), (1, 2), (2, 3), (3, 0)]\n",
    "}\n",
    "\n",
    "NODES = \"nodes\"\n",
    "EDGES = \"edges\""
   ]
  },
  {
   "cell_type": "markdown",
   "id": "9fc61963",
   "metadata": {},
   "source": [
    "Section - Maxcut Cost"
   ]
  },
  {
   "cell_type": "code",
   "execution_count": 3,
   "id": "777c72bc",
   "metadata": {},
   "outputs": [],
   "source": [
    "def maxcut_cost(solution, graph):\n",
    "    \"\"\"Calculates the cost (negative of the number of edges cut) for a given solution.\n",
    "\n",
    "    Args:\n",
    "        solution (string): A binary string representing the set assignment of each vertex.\n",
    "        graph (dict): A dictionary representing the graph, with keys \"nodes\" and \"edges.\"\n",
    "\n",
    "    Returns:\n",
    "        int: The cost (negative of the number of edges cut) for the given solution.\n",
    "    \"\"\"\n",
    "    cost = 0\n",
    "    for i, j in graph[EDGES]:\n",
    "        if solution[i] != solution[j]:\n",
    "            cost -= 1\n",
    "    return cost"
   ]
  },
  {
   "cell_type": "markdown",
   "id": "edf4f419",
   "metadata": {},
   "source": [
    "Section - Expected Value"
   ]
  },
  {
   "cell_type": "code",
   "execution_count": 4,
   "id": "e166cf6e",
   "metadata": {},
   "outputs": [],
   "source": [
    "def compute_expectation(counts, graph):\n",
    "    \"\"\"Calculates the expected value of the cost function given measurement results.\n",
    "\n",
    "    Args:\n",
    "        counts (dict): A dictionary mapping bitstrings to their counts from quantum circuit execution.\n",
    "        graph (dict): A dictionary representing the graph, with keys \"nodes\" and \"edges.\"\n",
    "\n",
    "    Returns:\n",
    "        float: The expected value of the cost function.\n",
    "    \"\"\"\n",
    "    avg = 0\n",
    "    sum_count = 0\n",
    "    for bit_string, count in counts.items():\n",
    "        obj = maxcut_cost(bit_string, graph)\n",
    "        avg += obj * count\n",
    "        sum_count += count\n",
    "    return avg/sum_count"
   ]
  },
  {
   "cell_type": "markdown",
   "id": "e037a954",
   "metadata": {},
   "source": [
    "Section - Circuit Creation"
   ]
  },
  {
   "cell_type": "code",
   "execution_count": 5,
   "id": "97ff3c39",
   "metadata": {},
   "outputs": [],
   "source": [
    "def create_qaoa_circ(graph, theta):\n",
    "    \"\"\"Constructs a parameterized QAOA circuit for the Max-Cut problem.\n",
    "\n",
    "    Args:\n",
    "        graph (dict): A dictionary representing the graph, with keys \"nodes\" and \"edges.\"\n",
    "        theta (list): A list of unitary parameters\n",
    "\n",
    "    Returns:\n",
    "        QuantumCircuit: The constructed QAOA circuit.\n",
    "    \"\"\"\n",
    "    nqubits = len(graph[NODES]) # Number of Qubits\n",
    "    n_layers = len(theta)//2    # Number of alternating unitaries\n",
    "    beta = theta[:n_layers]\n",
    "    gamma = theta[n_layers:]\n",
    "    qc = QuantumCircuit(nqubits)\n",
    "\n",
    "    # Initial_state\n",
    "    qc.h(range(nqubits))\n",
    "\n",
    "    for layer_index in range(n_layers):\n",
    "        # Problem unitary\n",
    "        for pair in list(graph[EDGES]):\n",
    "            qc.rzz(2 * gamma[layer_index], pair[0], pair[1])\n",
    "        # Mixer unitary\n",
    "        for qubit in range(nqubits):\n",
    "            qc.rx(2 * beta[layer_index], qubit)\n",
    "    qc.measure_all()\n",
    "    return qc"
   ]
  },
  {
   "cell_type": "markdown",
   "id": "d4c76cd2",
   "metadata": {},
   "source": [
    "Section - Calculate Expected Value"
   ]
  },
  {
   "cell_type": "code",
   "execution_count": 6,
   "id": "5c6386a7",
   "metadata": {},
   "outputs": [],
   "source": [
    "def get_expectation(graph, backend, shots=512):\n",
    "    \"\"\"Calculates the expected value of the cost function given measurement results.\n",
    "\n",
    "    Args:\n",
    "        counts (dict): A dictionary mapping bitstrings to their counts from quantum circuit execution.\n",
    "        graph (dict): A dictionary representing the graph, with keys \"nodes\" and \"edges.\"\n",
    "\n",
    "    Returns:\n",
    "        float: The expected value of the cost function.\n",
    "    \"\"\"\n",
    "    def execute_circ(theta):\n",
    "        \"\"\"Executes the QAOA circuit with given parameters and returns the expectation value.\"\"\"\n",
    "        qc = create_qaoa_circ(graph, theta)\n",
    "        qc_compiled = transpile(qc, backend)\n",
    "        job_sim = backend.run(qc_compiled, shots=shots)\n",
    "        counts = job_sim.result().get_counts()\n",
    "        return compute_expectation(counts, graph)\n",
    "    return execute_circ"
   ]
  },
  {
   "cell_type": "markdown",
   "id": "48631a53",
   "metadata": {},
   "source": [
    "Section - Optimizing Circuit"
   ]
  },
  {
   "cell_type": "code",
   "execution_count": 7,
   "id": "a8e308d1",
   "metadata": {},
   "outputs": [
    {
     "name": "stderr",
     "output_type": "stream",
     "text": [
      "c:\\Users\\Lowkey\\Documents\\Code\\QuantumSetup.git\\.venv\\Lib\\site-packages\\qiskit_braket_provider\\providers\\adapter.py:457: UserWarning: The Qiskit circuit contains barrier instructions that are ignored.\n",
      "  warnings.warn(\n",
      "c:\\Users\\Lowkey\\Documents\\Code\\QuantumSetup.git\\.venv\\Lib\\site-packages\\qiskit_braket_provider\\providers\\adapter.py:457: UserWarning: The Qiskit circuit contains barrier instructions that are ignored.\n",
      "  warnings.warn(\n",
      "c:\\Users\\Lowkey\\Documents\\Code\\QuantumSetup.git\\.venv\\Lib\\site-packages\\qiskit_braket_provider\\providers\\adapter.py:457: UserWarning: The Qiskit circuit contains barrier instructions that are ignored.\n",
      "  warnings.warn(\n",
      "c:\\Users\\Lowkey\\Documents\\Code\\QuantumSetup.git\\.venv\\Lib\\site-packages\\qiskit_braket_provider\\providers\\adapter.py:457: UserWarning: The Qiskit circuit contains barrier instructions that are ignored.\n",
      "  warnings.warn(\n",
      "c:\\Users\\Lowkey\\Documents\\Code\\QuantumSetup.git\\.venv\\Lib\\site-packages\\qiskit_braket_provider\\providers\\adapter.py:457: UserWarning: The Qiskit circuit contains barrier instructions that are ignored.\n",
      "  warnings.warn(\n",
      "c:\\Users\\Lowkey\\Documents\\Code\\QuantumSetup.git\\.venv\\Lib\\site-packages\\qiskit_braket_provider\\providers\\adapter.py:457: UserWarning: The Qiskit circuit contains barrier instructions that are ignored.\n",
      "  warnings.warn(\n",
      "c:\\Users\\Lowkey\\Documents\\Code\\QuantumSetup.git\\.venv\\Lib\\site-packages\\qiskit_braket_provider\\providers\\adapter.py:457: UserWarning: The Qiskit circuit contains barrier instructions that are ignored.\n",
      "  warnings.warn(\n",
      "c:\\Users\\Lowkey\\Documents\\Code\\QuantumSetup.git\\.venv\\Lib\\site-packages\\qiskit_braket_provider\\providers\\adapter.py:457: UserWarning: The Qiskit circuit contains barrier instructions that are ignored.\n",
      "  warnings.warn(\n",
      "c:\\Users\\Lowkey\\Documents\\Code\\QuantumSetup.git\\.venv\\Lib\\site-packages\\qiskit_braket_provider\\providers\\adapter.py:457: UserWarning: The Qiskit circuit contains barrier instructions that are ignored.\n",
      "  warnings.warn(\n",
      "c:\\Users\\Lowkey\\Documents\\Code\\QuantumSetup.git\\.venv\\Lib\\site-packages\\qiskit_braket_provider\\providers\\adapter.py:457: UserWarning: The Qiskit circuit contains barrier instructions that are ignored.\n",
      "  warnings.warn(\n",
      "c:\\Users\\Lowkey\\Documents\\Code\\QuantumSetup.git\\.venv\\Lib\\site-packages\\qiskit_braket_provider\\providers\\adapter.py:457: UserWarning: The Qiskit circuit contains barrier instructions that are ignored.\n",
      "  warnings.warn(\n",
      "c:\\Users\\Lowkey\\Documents\\Code\\QuantumSetup.git\\.venv\\Lib\\site-packages\\qiskit_braket_provider\\providers\\adapter.py:457: UserWarning: The Qiskit circuit contains barrier instructions that are ignored.\n",
      "  warnings.warn(\n",
      "c:\\Users\\Lowkey\\Documents\\Code\\QuantumSetup.git\\.venv\\Lib\\site-packages\\qiskit_braket_provider\\providers\\adapter.py:457: UserWarning: The Qiskit circuit contains barrier instructions that are ignored.\n",
      "  warnings.warn(\n",
      "c:\\Users\\Lowkey\\Documents\\Code\\QuantumSetup.git\\.venv\\Lib\\site-packages\\qiskit_braket_provider\\providers\\adapter.py:457: UserWarning: The Qiskit circuit contains barrier instructions that are ignored.\n",
      "  warnings.warn(\n",
      "c:\\Users\\Lowkey\\Documents\\Code\\QuantumSetup.git\\.venv\\Lib\\site-packages\\qiskit_braket_provider\\providers\\adapter.py:457: UserWarning: The Qiskit circuit contains barrier instructions that are ignored.\n",
      "  warnings.warn(\n",
      "c:\\Users\\Lowkey\\Documents\\Code\\QuantumSetup.git\\.venv\\Lib\\site-packages\\qiskit_braket_provider\\providers\\adapter.py:457: UserWarning: The Qiskit circuit contains barrier instructions that are ignored.\n",
      "  warnings.warn(\n",
      "c:\\Users\\Lowkey\\Documents\\Code\\QuantumSetup.git\\.venv\\Lib\\site-packages\\qiskit_braket_provider\\providers\\adapter.py:457: UserWarning: The Qiskit circuit contains barrier instructions that are ignored.\n",
      "  warnings.warn(\n",
      "c:\\Users\\Lowkey\\Documents\\Code\\QuantumSetup.git\\.venv\\Lib\\site-packages\\qiskit_braket_provider\\providers\\adapter.py:457: UserWarning: The Qiskit circuit contains barrier instructions that are ignored.\n",
      "  warnings.warn(\n",
      "c:\\Users\\Lowkey\\Documents\\Code\\QuantumSetup.git\\.venv\\Lib\\site-packages\\qiskit_braket_provider\\providers\\adapter.py:457: UserWarning: The Qiskit circuit contains barrier instructions that are ignored.\n",
      "  warnings.warn(\n",
      "c:\\Users\\Lowkey\\Documents\\Code\\QuantumSetup.git\\.venv\\Lib\\site-packages\\qiskit_braket_provider\\providers\\adapter.py:457: UserWarning: The Qiskit circuit contains barrier instructions that are ignored.\n",
      "  warnings.warn(\n",
      "c:\\Users\\Lowkey\\Documents\\Code\\QuantumSetup.git\\.venv\\Lib\\site-packages\\qiskit_braket_provider\\providers\\adapter.py:457: UserWarning: The Qiskit circuit contains barrier instructions that are ignored.\n",
      "  warnings.warn(\n",
      "c:\\Users\\Lowkey\\Documents\\Code\\QuantumSetup.git\\.venv\\Lib\\site-packages\\qiskit_braket_provider\\providers\\adapter.py:457: UserWarning: The Qiskit circuit contains barrier instructions that are ignored.\n",
      "  warnings.warn(\n",
      "c:\\Users\\Lowkey\\Documents\\Code\\QuantumSetup.git\\.venv\\Lib\\site-packages\\qiskit_braket_provider\\providers\\adapter.py:457: UserWarning: The Qiskit circuit contains barrier instructions that are ignored.\n",
      "  warnings.warn(\n",
      "c:\\Users\\Lowkey\\Documents\\Code\\QuantumSetup.git\\.venv\\Lib\\site-packages\\qiskit_braket_provider\\providers\\adapter.py:457: UserWarning: The Qiskit circuit contains barrier instructions that are ignored.\n",
      "  warnings.warn(\n",
      "c:\\Users\\Lowkey\\Documents\\Code\\QuantumSetup.git\\.venv\\Lib\\site-packages\\qiskit_braket_provider\\providers\\adapter.py:457: UserWarning: The Qiskit circuit contains barrier instructions that are ignored.\n",
      "  warnings.warn(\n",
      "c:\\Users\\Lowkey\\Documents\\Code\\QuantumSetup.git\\.venv\\Lib\\site-packages\\qiskit_braket_provider\\providers\\adapter.py:457: UserWarning: The Qiskit circuit contains barrier instructions that are ignored.\n",
      "  warnings.warn(\n",
      "c:\\Users\\Lowkey\\Documents\\Code\\QuantumSetup.git\\.venv\\Lib\\site-packages\\qiskit_braket_provider\\providers\\adapter.py:457: UserWarning: The Qiskit circuit contains barrier instructions that are ignored.\n",
      "  warnings.warn(\n",
      "c:\\Users\\Lowkey\\Documents\\Code\\QuantumSetup.git\\.venv\\Lib\\site-packages\\qiskit_braket_provider\\providers\\adapter.py:457: UserWarning: The Qiskit circuit contains barrier instructions that are ignored.\n",
      "  warnings.warn(\n",
      "c:\\Users\\Lowkey\\Documents\\Code\\QuantumSetup.git\\.venv\\Lib\\site-packages\\qiskit_braket_provider\\providers\\adapter.py:457: UserWarning: The Qiskit circuit contains barrier instructions that are ignored.\n",
      "  warnings.warn(\n",
      "c:\\Users\\Lowkey\\Documents\\Code\\QuantumSetup.git\\.venv\\Lib\\site-packages\\qiskit_braket_provider\\providers\\adapter.py:457: UserWarning: The Qiskit circuit contains barrier instructions that are ignored.\n",
      "  warnings.warn(\n",
      "c:\\Users\\Lowkey\\Documents\\Code\\QuantumSetup.git\\.venv\\Lib\\site-packages\\qiskit_braket_provider\\providers\\adapter.py:457: UserWarning: The Qiskit circuit contains barrier instructions that are ignored.\n",
      "  warnings.warn(\n",
      "c:\\Users\\Lowkey\\Documents\\Code\\QuantumSetup.git\\.venv\\Lib\\site-packages\\qiskit_braket_provider\\providers\\adapter.py:457: UserWarning: The Qiskit circuit contains barrier instructions that are ignored.\n",
      "  warnings.warn(\n",
      "c:\\Users\\Lowkey\\Documents\\Code\\QuantumSetup.git\\.venv\\Lib\\site-packages\\qiskit_braket_provider\\providers\\adapter.py:457: UserWarning: The Qiskit circuit contains barrier instructions that are ignored.\n",
      "  warnings.warn(\n",
      "c:\\Users\\Lowkey\\Documents\\Code\\QuantumSetup.git\\.venv\\Lib\\site-packages\\qiskit_braket_provider\\providers\\adapter.py:457: UserWarning: The Qiskit circuit contains barrier instructions that are ignored.\n",
      "  warnings.warn(\n"
     ]
    },
    {
     "name": "stdout",
     "output_type": "stream",
     "text": [
      " message: Optimization terminated successfully.\n",
      " success: True\n",
      "  status: 1\n",
      "     fun: -2.96484375\n",
      "       x: [ 2.797e+00  3.769e-01]\n",
      "    nfev: 34\n",
      "   maxcv: 0.0\n"
     ]
    }
   ],
   "source": [
    "# Get the function to calculate expectation for optimization\n",
    "expectation = get_expectation(graph, backend)\n",
    "\n",
    "res = minimize(expectation,\n",
    "               [1.0, 1.0],      # Initial guess for parameters\n",
    "               method='COBYLA') # Classical optimization method\n",
    "# Print the result of the minimization function\n",
    "print(res)"
   ]
  },
  {
   "cell_type": "markdown",
   "id": "6af4387f",
   "metadata": {},
   "source": [
    "Section - Optimized Circuit"
   ]
  },
  {
   "cell_type": "code",
   "execution_count": 8,
   "id": "3ff5bcc8",
   "metadata": {},
   "outputs": [
    {
     "data": {
      "image/png": "[encoded data removed]",
      "text/plain": [
       "<Figure size 1416.5x451.5 with 1 Axes>"
      ]
     },
     "execution_count": 8,
     "metadata": {},
     "output_type": "execute_result"
    }
   ],
   "source": [
    "# Create the final circuit with optimized parameters\n",
    "qc_res = create_qaoa_circ(graph, res.x)\n",
    "\n",
    "# Draw the final circuit\n",
    "qc_res.draw(\"mpl\")"
   ]
  },
  {
   "cell_type": "markdown",
   "id": "7ae661f4",
   "metadata": {},
   "source": [
    "Section - Circuit Execution and Result Analysis"
   ]
  },
  {
   "cell_type": "code",
   "execution_count": 9,
   "id": "d91967ec",
   "metadata": {},
   "outputs": [
    {
     "name": "stderr",
     "output_type": "stream",
     "text": [
      "c:\\Users\\Lowkey\\Documents\\Code\\QuantumSetup.git\\.venv\\Lib\\site-packages\\qiskit_braket_provider\\providers\\adapter.py:457: UserWarning: The Qiskit circuit contains barrier instructions that are ignored.\n",
      "  warnings.warn(\n"
     ]
    },
    {
     "data": {
      "image/png": "[encoded data removed]",
      "text/plain": [
       "<Figure size 640x480 with 1 Axes>"
      ]
     },
     "execution_count": 9,
     "metadata": {},
     "output_type": "execute_result"
    }
   ],
   "source": [
    "# Execute the circuit and visualize results\n",
    "qc_compiled = transpile(qc_res, backend)\n",
    "job_sim = backend.run(qc_compiled, shots=512)\n",
    "counts = job_sim.result().get_counts()\n",
    "\n",
    "# Expected spikes at the solutions [\"1010\", \"0101\"]\n",
    "plot_histogram(counts)"
   ]
  }
 ],
 "metadata": {
  "kernelspec": {
   "display_name": ".venv",
   "language": "python",
   "name": "python3"
  },
  "language": "python",
  "language_info": {
   "codemirror_mode": {
    "name": "ipython",
    "version": 3
   },
   "file_extension": ".py",
   "mimetype": "text/x-python",
   "name": "python",
   "nbconvert_exporter": "python",
   "pygments_lexer": "ipython3",
   "version": "3.12.5"
  }
 },
 "nbformat": 4,
 "nbformat_minor": 5
}
