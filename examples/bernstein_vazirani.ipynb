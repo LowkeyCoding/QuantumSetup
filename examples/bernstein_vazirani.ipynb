{
 "cells": [
  {
   "cell_type": "code",
   "execution_count": null,
   "id": "34569f24",
   "metadata": {},
   "outputs": [],
   "source": [
    "from braket.aws.aws_session import AwsSession \n",
    "import boto3\n",
    "import os \n",
    "from dotenv import load_dotenv\n",
    "from qiskit import *\n",
    "from qiskit_braket_provider import BraketProvider\n",
    "from qiskit.visualization import plot_histogram\n",
    "from matplotlib import pyplot"
   ]
  },
  {
   "cell_type": "markdown",
   "id": "48817638",
   "metadata": {},
   "source": [
    "Section - Setup Circuit Parameters"
   ]
  },
  {
   "cell_type": "code",
   "execution_count": null,
   "id": "ff8755df",
   "metadata": {},
   "outputs": [],
   "source": [
    "# Load environment variables \n",
    "load_dotenv()\n",
    "\n",
    "boto_session = boto3.Session(\n",
    "    aws_access_key_id=os.environ['aws_access'],\n",
    "    aws_secret_access_key=os.environ['aws_secret'],\n",
    "    region_name=os.environ['aws_region'],\n",
    ")\n",
    "session = AwsSession(boto_session)\n",
    "provider = BraketProvider()\n",
    "backend = provider.get_backend(\"SV1\", aws_session = session)\n",
    "\n",
    "qubits = 6 # The number of physical qubits\n",
    "a = 42 # the hidden integer\n",
    "\n",
    "# Ensure it can be represented with the number of specified qubits\n",
    "a = a % 2**(qubits)"
   ]
  },
  {
   "cell_type": "markdown",
   "id": "f25957bf",
   "metadata": {},
   "source": [
    "Section - Quantum Register and Classical Register Initialization"
   ]
  },
  {
   "cell_type": "code",
   "execution_count": null,
   "id": "e34a9c73",
   "metadata": {},
   "outputs": [],
   "source": [
    "qr = QuantumRegister(qubits)\n",
    "cr = ClassicalRegister(qubits)\n",
    "\n",
    "circ = QuantumCircuit(qr, cr)"
   ]
  },
  {
   "cell_type": "markdown",
   "id": "a2ed1b2f",
   "metadata": {},
   "source": [
    "Section - Superposition State Preparation (Equal weights to all basis states)"
   ]
  },
  {
   "cell_type": "code",
   "execution_count": null,
   "id": "223e9d03",
   "metadata": {},
   "outputs": [],
   "source": [
    "for i in range(qubits):\n",
    "    circ.h(qr[i])  # Apply Hadamard gates to put qubits in supe\n",
    "\n",
    "circ.barrier()"
   ]
  },
  {
   "cell_type": "markdown",
   "id": "da5d61e3",
   "metadata": {},
   "source": [
    "Section - Oracle Function"
   ]
  },
  {
   "cell_type": "code",
   "execution_count": null,
   "id": "e18bef1c",
   "metadata": {},
   "outputs": [],
   "source": [
    "for i in range(qubits):\n",
    "    # Apply Z gate if the i-th bit of 'a' is 1\n",
    "    if (a & (1 << i)):\n",
    "        circ.z(qr[i]) \n",
    "    # Apply identity gate if the i-th bit of 'a' is 0\n",
    "    else:\n",
    "        circ.id(qr[i])\n",
    "        circ.barrier()\n",
    "\n",
    "for i in range(qubits):\n",
    "    circ.h(qr[i])"
   ]
  },
  {
   "cell_type": "markdown",
   "id": "55c70fc1",
   "metadata": {},
   "source": [
    "Section - Running the circuit"
   ]
  },
  {
   "cell_type": "code",
   "execution_count": null,
   "id": "cd2cb5dd",
   "metadata": {},
   "outputs": [],
   "source": [
    "circ.barrier()\n",
    "circ.measure(qr,cr)\n",
    "circ.draw(\"mpl\")\n",
    "\n",
    "\n",
    "qc_compiled = transpile(circ, backend)\n",
    "job_sim = backend.run(qc_compiled, shots=1024)\n",
    "result_sim = job_sim.result()\n",
    "counts = result_sim.get_counts()"
   ]
  },
  {
   "cell_type": "markdown",
   "id": "9a6cb5b1",
   "metadata": {},
   "source": [
    "Section - Plotting the results"
   ]
  },
  {
   "cell_type": "code",
   "execution_count": null,
   "id": "cff13a37",
   "metadata": {},
   "outputs": [],
   "source": [
    "plot_histogram(counts)"
   ]
  }
 ],
 "metadata": {
  "language": "python"
 },
 "nbformat": 4,
 "nbformat_minor": 5
}
