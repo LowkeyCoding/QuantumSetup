{
 "cells": [
  {
   "cell_type": "code",
   "execution_count": 1,
   "id": "26d2b838",
   "metadata": {},
   "outputs": [],
   "source": [
    "from qiskit import *\n",
    "from qiskit_aer import AerSimulator\n",
    "from qiskit.visualization import plot_histogram\n",
    "from matplotlib import pyplot"
   ]
  },
  {
   "cell_type": "markdown",
   "id": "90517b57",
   "metadata": {},
   "source": [
    "Section - Setup Circuit Parameters"
   ]
  },
  {
   "cell_type": "code",
   "execution_count": 2,
   "id": "a2f87b01",
   "metadata": {},
   "outputs": [],
   "source": [
    "backend = AerSimulator()\n",
    "\n",
    "qubits = 6 # The number of physical qubits\n",
    "a = 42 # the hidden integer\n",
    "\n",
    "# Ensure it can be represented with the number of specified qubits\n",
    "a = a % 2**(qubits)"
   ]
  },
  {
   "cell_type": "markdown",
   "id": "995d3f39",
   "metadata": {},
   "source": [
    "Section - Quantum Register and Classical Register Initialization"
   ]
  },
  {
   "cell_type": "code",
   "execution_count": 3,
   "id": "07892308",
   "metadata": {},
   "outputs": [],
   "source": [
    "qr = QuantumRegister(qubits)\n",
    "cr = ClassicalRegister(qubits)\n",
    "\n",
    "circ = QuantumCircuit(qr, cr)"
   ]
  },
  {
   "cell_type": "markdown",
   "id": "650cf020",
   "metadata": {},
   "source": [
    "Section - Superposition State Preparation (Equal weights to all basis states)"
   ]
  },
  {
   "cell_type": "code",
   "execution_count": 4,
   "id": "80ea4d17",
   "metadata": {},
   "outputs": [
    {
     "data": {
      "text/plain": [
       "CircuitInstruction(operation=Instruction(name='barrier', num_qubits=6, num_clbits=0, params=[]), qubits=(Qubit(QuantumRegister(6, 'q1'), 0), Qubit(QuantumRegister(6, 'q1'), 1), Qubit(QuantumRegister(6, 'q1'), 2), Qubit(QuantumRegister(6, 'q1'), 3), Qubit(QuantumRegister(6, 'q1'), 4), Qubit(QuantumRegister(6, 'q1'), 5)), clbits=())"
      ]
     },
     "execution_count": 4,
     "metadata": {},
     "output_type": "execute_result"
    }
   ],
   "source": [
    "for i in range(qubits):\n",
    "    circ.h(qr[i])  # Apply Hadamard gates to put qubits in supe\n",
    "\n",
    "circ.barrier()"
   ]
  },
  {
   "cell_type": "markdown",
   "id": "5ce99778",
   "metadata": {},
   "source": [
    "Section - Oracle Function"
   ]
  },
  {
   "cell_type": "code",
   "execution_count": 5,
   "id": "a2ab343b",
   "metadata": {},
   "outputs": [],
   "source": [
    "for i in range(qubits):\n",
    "    # Apply Z gate if the i-th bit of 'a' is 1\n",
    "    if (a & (1 << i)):\n",
    "        circ.z(qr[i]) \n",
    "    # Apply identity gate if the i-th bit of 'a' is 0\n",
    "    else:\n",
    "        circ.id(qr[i])\n",
    "        circ.barrier()\n",
    "\n",
    "for i in range(qubits):\n",
    "    circ.h(qr[i])"
   ]
  },
  {
   "cell_type": "markdown",
   "id": "3a77c583",
   "metadata": {},
   "source": [
    "Section - Running the circuit"
   ]
  },
  {
   "cell_type": "code",
   "execution_count": 6,
   "id": "e1126f01",
   "metadata": {},
   "outputs": [],
   "source": [
    "circ.barrier()\n",
    "circ.measure(qr,cr)\n",
    "circ.draw(\"mpl\")\n",
    "\n",
    "\n",
    "qc_compiled = transpile(circ, backend)\n",
    "job_sim = backend.run(qc_compiled, shots=1024)\n",
    "result_sim = job_sim.result()\n",
    "counts = result_sim.get_counts(qc_compiled)"
   ]
  },
  {
   "cell_type": "markdown",
   "id": "5d5888c1",
   "metadata": {},
   "source": [
    "Section - Plotting the results"
   ]
  },
  {
   "cell_type": "code",
   "execution_count": 7,
   "id": "dd5d0e33",
   "metadata": {},
   "outputs": [
    {
     "data": {
      "image/png": "[encoded data removed]",
      "text/plain": [
       "<Figure size 640x480 with 1 Axes>"
      ]
     },
     "execution_count": 7,
     "metadata": {},
     "output_type": "execute_result"
    }
   ],
   "source": [
    "plot_histogram(counts)"
   ]
  }
 ],
 "metadata": {
  "kernelspec": {
   "display_name": ".venv",
   "language": "python",
   "name": "python3"
  },
  "language": "python",
  "language_info": {
   "codemirror_mode": {
    "name": "ipython",
    "version": 3
   },
   "file_extension": ".py",
   "mimetype": "text/x-python",
   "name": "python",
   "nbconvert_exporter": "python",
   "pygments_lexer": "ipython3",
   "version": "3.12.5"
  }
 },
 "nbformat": 4,
 "nbformat_minor": 5
}
