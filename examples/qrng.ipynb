{
 "cells": [
  {
   "cell_type": "code",
   "execution_count": null,
   "id": "b5243c61",
   "metadata": {},
   "outputs": [],
   "source": [
    "from azure.quantum import Workspace\n",
    "from azure.quantum.qiskit import AzureQuantumProvider\n",
    "from matplotlib import pyplot\n",
    "from dotenv import load_dotenv\n",
    "from qiskit import QuantumCircuit, transpile, QuantumRegister, ClassicalRegister\n",
    "from qiskit.visualization import plot_histogram\n",
    "import numpy as np\n",
    "import os"
   ]
  },
  {
   "cell_type": "markdown",
   "id": "57a2969c",
   "metadata": {},
   "source": [
    "Section - Qubit Register and Classical Register Initialization"
   ]
  },
  {
   "cell_type": "code",
   "execution_count": null,
   "id": "aff01741",
   "metadata": {},
   "outputs": [],
   "source": [
    "load_dotenv()\n",
    "workspace = Workspace.from_connection_string(os.environ['azure_connection'])\n",
    "provider = AzureQuantumProvider(workspace)\n",
    "# Selecting a backend\n",
    "# Use simulators to test before running it on real hardware.\n",
    "backend = provider.get_backend(\"rigetti.sim.qvm\")\n",
    "\n",
    "num_bits = 4 # number of random bits to generate\n",
    "\n",
    "qr = QuantumRegister(num_bits, name='qr')\n",
    "cr = ClassicalRegister(num_bits, name='cr')\n",
    "qrng = QuantumCircuit(qr,cr)"
   ]
  },
  {
   "cell_type": "markdown",
   "id": "3462bedd",
   "metadata": {},
   "source": [
    "Section - Superposition State Preparation (Equal weights to all basis states)"
   ]
  },
  {
   "cell_type": "code",
   "execution_count": null,
   "id": "0091f53e",
   "metadata": {},
   "outputs": [],
   "source": [
    "for i in range(num_bits):\n",
    "    qrng.h(qr[i])\n",
    "\n",
    "\n",
    "qrng.measure(qr, cr)"
   ]
  },
  {
   "cell_type": "markdown",
   "id": "c3f36a0b",
   "metadata": {},
   "source": [
    "Section - Circuit Visualization"
   ]
  },
  {
   "cell_type": "code",
   "execution_count": null,
   "id": "38a2532a",
   "metadata": {},
   "outputs": [],
   "source": [
    "qrng.draw(\"mpl\")"
   ]
  },
  {
   "cell_type": "markdown",
   "id": "4e659745",
   "metadata": {},
   "source": [
    "Section - Circuit Execution and Result Analysis"
   ]
  },
  {
   "cell_type": "code",
   "execution_count": null,
   "id": "55cbdcf0",
   "metadata": {},
   "outputs": [],
   "source": [
    "qc_compiled = transpile(qrng, backend)\n",
    "job_sim = backend.run(qc_compiled, shots=1024)\n",
    "result_sim = job_sim.result()\n",
    "counts = result_sim.get_counts(qc_compiled)\n",
    "\n",
    "# Plot the result\n",
    "plot_histogram(counts)"
   ]
  }
 ],
 "metadata": {
  "language": "python"
 },
 "nbformat": 4,
 "nbformat_minor": 5
}
